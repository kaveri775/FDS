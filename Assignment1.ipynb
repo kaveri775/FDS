{
 "cells": [
  {
   "cell_type": "code",
   "execution_count": 1,
   "id": "eb38c5d2",
   "metadata": {},
   "outputs": [
    {
     "name": "stdout",
     "output_type": "stream",
     "text": [
      "2.2.6\n"
     ]
    }
   ],
   "source": [
    "import numpy as np\n",
    "print(np.__version__)"
   ]
  },
  {
   "cell_type": "code",
   "execution_count": 2,
   "id": "8c7bc4ec",
   "metadata": {},
   "outputs": [
    {
     "name": "stdout",
     "output_type": "stream",
     "text": [
      "[0. 0. 0. 0. 0.]\n"
     ]
    },
    {
     "data": {
      "text/plain": [
       "array([0, 0, 0, 0, 0], dtype=int32)"
      ]
     },
     "execution_count": 2,
     "metadata": {},
     "output_type": "execute_result"
    }
   ],
   "source": [
    "import numpy as np\n",
    "arr=np.zeros(5)\n",
    "print(arr)\n",
    "arr.dtype\n",
    "arr.astype(np.int32)"
   ]
  },
  {
   "cell_type": "code",
   "execution_count": 3,
   "id": "412e485a",
   "metadata": {},
   "outputs": [
    {
     "name": "stdout",
     "output_type": "stream",
     "text": [
      "[1 1 1 1 1]\n",
      "int64\n",
      "(5,)\n"
     ]
    }
   ],
   "source": [
    "arr1=np.ones(5,dtype=\"int\")\n",
    "print(arr1)\n",
    "print(arr1.dtype)\n",
    "print(arr1.shape)\n"
   ]
  },
  {
   "cell_type": "code",
   "execution_count": 5,
   "id": "58dff8be",
   "metadata": {},
   "outputs": [
    {
     "name": "stdout",
     "output_type": "stream",
     "text": [
      "Array [[10  2 30]\n",
      " [ 4 50  6]\n",
      " [70  8  9]\n",
      " [11 12 13]]\n",
      "shape (4, 3)\n",
      "datatype int64\n"
     ]
    }
   ],
   "source": [
    "arr=np.array([[10,2,30],[4,50,6],[70,8,9],[11,12,13]])\n",
    "print(\"Array\",arr)\n",
    "print(\"shape\",arr.shape)\n",
    "print(\"datatype\",arr.dtype)"
   ]
  },
  {
   "cell_type": "code",
   "execution_count": 6,
   "id": "b5830e64",
   "metadata": {},
   "outputs": [
    {
     "name": "stdout",
     "output_type": "stream",
     "text": [
      "swappaxes [[10  4 70 11]\n",
      " [ 2 50  8 12]\n",
      " [30  6  9 13]]\n"
     ]
    }
   ],
   "source": [
    "#to interchange the axis, row become column,column become row\n",
    "print(\"swappaxes\",np.swapaxes(arr,0,1))"
   ]
  },
  {
   "cell_type": "code",
   "execution_count": 7,
   "id": "1c15960a",
   "metadata": {},
   "outputs": [
    {
     "name": "stdout",
     "output_type": "stream",
     "text": [
      "Reshape array [[10  2 30  4]\n",
      " [50  6 70  8]\n",
      " [ 9 11 12 13]]\n"
     ]
    }
   ],
   "source": [
    "#rearrange columns\n",
    "print(\"Reshape array\",arr.reshape(3,4))"
   ]
  },
  {
   "cell_type": "code",
   "execution_count": 8,
   "id": "f752d1a6",
   "metadata": {},
   "outputs": [
    {
     "name": "stdout",
     "output_type": "stream",
     "text": [
      "sort in aixs=0 [[ 4  2  6]\n",
      " [10  8  9]\n",
      " [11 12 13]\n",
      " [70 50 30]]\n",
      "sort in axis=1 [[ 2 10 30]\n",
      " [ 4  6 50]\n",
      " [ 8  9 70]\n",
      " [11 12 13]]\n"
     ]
    }
   ],
   "source": [
    "print(\"sort in aixs=0\",np.sort(arr,axis=0))\n",
    "print(\"sort in axis=1\",np.sort(arr,axis=1))"
   ]
  },
  {
   "cell_type": "code",
   "execution_count": 11,
   "id": "4508dea7",
   "metadata": {},
   "outputs": [
    {
     "name": "stdout",
     "output_type": "stream",
     "text": [
      "max element 70\n",
      "min element 2\n"
     ]
    }
   ],
   "source": [
    "#for printing max and min elemet from array\n",
    "print(\"max element\",np.max(arr))\n",
    "print(\"min element\",np.min(arr))"
   ]
  },
  {
   "cell_type": "code",
   "execution_count": null,
   "id": "9e34254f",
   "metadata": {},
   "outputs": [
    {
     "data": {
      "text/plain": [
       "array([ 1.  ,  3.25,  5.5 ,  7.75, 10.  ])"
      ]
     },
     "execution_count": 12,
     "metadata": {},
     "output_type": "execute_result"
    }
   ],
   "source": [
    "#creating range between array\n",
    "np.linspace(1,10,num=5)"
   ]
  },
  {
   "cell_type": "code",
   "execution_count": 13,
   "id": "c147013a",
   "metadata": {},
   "outputs": [
    {
     "name": "stdout",
     "output_type": "stream",
     "text": [
      "[[0 0 0]\n",
      " [0 0 0]\n",
      " [0 0 0]\n",
      " [0 0 0]]\n",
      "(4, 3)\n",
      "int64\n",
      "12\n"
     ]
    }
   ],
   "source": [
    "arr1=np.zeros((4,3),dtype=\"int\")\n",
    "print(arr1)\n",
    "print(arr1.shape)\n",
    "print(arr1.dtype)\n",
    "print(arr1.size)"
   ]
  },
  {
   "cell_type": "code",
   "execution_count": 14,
   "id": "151cf7c0",
   "metadata": {},
   "outputs": [
    {
     "data": {
      "text/plain": [
       "1"
      ]
     },
     "execution_count": 14,
     "metadata": {},
     "output_type": "execute_result"
    }
   ],
   "source": [
    "#Create 1 array and check its dimension\n",
    "array1=np.array([1,2,3,4,5,6,7])\n",
    "array1.ndim"
   ]
  },
  {
   "cell_type": "code",
   "execution_count": null,
   "id": "5c2e75de",
   "metadata": {},
   "outputs": [
    {
     "data": {
      "text/plain": [
       "7"
      ]
     },
     "execution_count": 17,
     "metadata": {},
     "output_type": "execute_result"
    }
   ],
   "source": [
    "#check the size of above array\n",
    "array1.size"
   ]
  },
  {
   "cell_type": "code",
   "execution_count": 19,
   "id": "4a5ea9cd",
   "metadata": {},
   "outputs": [
    {
     "data": {
      "text/plain": [
       "(7,)"
      ]
     },
     "execution_count": 19,
     "metadata": {},
     "output_type": "execute_result"
    }
   ],
   "source": [
    "#check the shape of array\n",
    "array1.shape"
   ]
  },
  {
   "cell_type": "code",
   "execution_count": 22,
   "id": "aac41059",
   "metadata": {},
   "outputs": [
    {
     "data": {
      "text/plain": [
       "np.int64(7)"
      ]
     },
     "execution_count": 22,
     "metadata": {},
     "output_type": "execute_result"
    }
   ],
   "source": [
    "#check the index of second element\n",
    "array1[1]\n",
    "#check the index of last element\n",
    "array1[-1]"
   ]
  },
  {
   "cell_type": "code",
   "execution_count": null,
   "id": "3dc61ec5",
   "metadata": {},
   "outputs": [],
   "source": []
  }
 ],
 "metadata": {
  "kernelspec": {
   "display_name": "Python 3",
   "language": "python",
   "name": "python3"
  },
  "language_info": {
   "codemirror_mode": {
    "name": "ipython",
    "version": 3
   },
   "file_extension": ".py",
   "mimetype": "text/x-python",
   "name": "python",
   "nbconvert_exporter": "python",
   "pygments_lexer": "ipython3",
   "version": "3.13.5"
  }
 },
 "nbformat": 4,
 "nbformat_minor": 5
}
