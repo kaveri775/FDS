{
 "cells": [
  {
   "cell_type": "code",
   "execution_count": null,
   "id": "aaa12490",
   "metadata": {},
   "outputs": [],
   "source": [
    "#Name : Rahane Kaveri Bhagwat\n",
    "#Roll No : 111\n",
    "#Mid-Term Practical Exam\n",
    "#Date 12/03/2025"
   ]
  },
  {
   "cell_type": "code",
   "execution_count": 1,
   "id": "ee7f969c",
   "metadata": {},
   "outputs": [
    {
     "name": "stdout",
     "output_type": "stream",
     "text": [
      "2.2.6\n"
     ]
    }
   ],
   "source": [
    "import numpy as np\n",
    "print(np.__version__)"
   ]
  },
  {
   "cell_type": "code",
   "execution_count": 2,
   "id": "a7a23996",
   "metadata": {},
   "outputs": [
    {
     "name": "stdout",
     "output_type": "stream",
     "text": [
      "[0. 0. 0. 0. 0.]\n"
     ]
    },
    {
     "data": {
      "text/plain": [
       "array([0, 0, 0, 0, 0], dtype=int32)"
      ]
     },
     "execution_count": 2,
     "metadata": {},
     "output_type": "execute_result"
    }
   ],
   "source": [
    "import numpy as np\n",
    "arr=np.zeros(5)\n",
    "print(arr)\n",
    "arr.dtype\n",
    "arr.astype(np.int32)"
   ]
  },
  {
   "cell_type": "code",
   "execution_count": 3,
   "id": "ee95e079",
   "metadata": {},
   "outputs": [
    {
     "name": "stdout",
     "output_type": "stream",
     "text": [
      "[1 1 1 1 1]\n",
      "int64\n",
      "(5,)\n"
     ]
    }
   ],
   "source": [
    "arr1=np.ones(5,dtype=\"int\")\n",
    "print(arr1)\n",
    "print(arr1.dtype)\n",
    "print(arr1.shape)"
   ]
  },
  {
   "cell_type": "code",
   "execution_count": 4,
   "id": "5d7f3a43",
   "metadata": {},
   "outputs": [
    {
     "name": "stdout",
     "output_type": "stream",
     "text": [
      "Array [[10  2 30]\n",
      " [ 4 50  6]\n",
      " [70  8  9]\n",
      " [11 12 13]]\n",
      "shape (4, 3)\n",
      "datatype int64\n"
     ]
    }
   ],
   "source": [
    "arr=np.array([[10,2,30],[4,50,6],[70,8,9],[11,12,13]])\n",
    "print(\"Array\",arr)\n",
    "print(\"shape\",arr.shape)\n",
    "print(\"datatype\",arr.dtype)"
   ]
  },
  {
   "cell_type": "code",
   "execution_count": 5,
   "id": "9a499468",
   "metadata": {},
   "outputs": [
    {
     "name": "stdout",
     "output_type": "stream",
     "text": [
      "swappaxes [[10  4 70 11]\n",
      " [ 2 50  8 12]\n",
      " [30  6  9 13]]\n"
     ]
    }
   ],
   "source": [
    "#to interchange the axis, row become column,column become row\n",
    "print(\"swappaxes\",np.swapaxes(arr,0,1))"
   ]
  },
  {
   "cell_type": "code",
   "execution_count": 6,
   "id": "c40d6ef6",
   "metadata": {},
   "outputs": [
    {
     "name": "stdout",
     "output_type": "stream",
     "text": [
      "Reshape array [[10  2 30  4]\n",
      " [50  6 70  8]\n",
      " [ 9 11 12 13]]\n"
     ]
    }
   ],
   "source": [
    "#rearrange columns\n",
    "print(\"Reshape array\",arr.reshape(3,4))"
   ]
  },
  {
   "cell_type": "code",
   "execution_count": 7,
   "id": "3d2a9bf6",
   "metadata": {},
   "outputs": [
    {
     "name": "stdout",
     "output_type": "stream",
     "text": [
      "sort in aixs=0 [[ 4  2  6]\n",
      " [10  8  9]\n",
      " [11 12 13]\n",
      " [70 50 30]]\n",
      "sort in axis=1 [[ 2 10 30]\n",
      " [ 4  6 50]\n",
      " [ 8  9 70]\n",
      " [11 12 13]]\n"
     ]
    }
   ],
   "source": [
    "print(\"sort in aixs=0\",np.sort(arr,axis=0))\n",
    "print(\"sort in axis=1\",np.sort(arr,axis=1))"
   ]
  },
  {
   "cell_type": "code",
   "execution_count": 8,
   "id": "fbf32e98",
   "metadata": {},
   "outputs": [
    {
     "name": "stdout",
     "output_type": "stream",
     "text": [
      "max element 70\n",
      "min element 2\n"
     ]
    }
   ],
   "source": [
    "#for printing max and min elemet from array\n",
    "print(\"max element\",np.max(arr))\n",
    "print(\"min element\",np.min(arr))"
   ]
  },
  {
   "cell_type": "code",
   "execution_count": 9,
   "id": "a991f67a",
   "metadata": {},
   "outputs": [
    {
     "data": {
      "text/plain": [
       "array([ 1.  ,  3.25,  5.5 ,  7.75, 10.  ])"
      ]
     },
     "execution_count": 9,
     "metadata": {},
     "output_type": "execute_result"
    }
   ],
   "source": [
    "#creating range between array\n",
    "np.linspace(1,10,num=5)"
   ]
  },
  {
   "cell_type": "code",
   "execution_count": 10,
   "id": "4b94d226",
   "metadata": {},
   "outputs": [
    {
     "name": "stdout",
     "output_type": "stream",
     "text": [
      "[[0 0 0]\n",
      " [0 0 0]\n",
      " [0 0 0]\n",
      " [0 0 0]]\n",
      "(4, 3)\n",
      "int64\n",
      "12\n"
     ]
    }
   ],
   "source": [
    "arr1=np.zeros((4,3),dtype=\"int\")\n",
    "print(arr1)\n",
    "print(arr1.shape)\n",
    "print(arr1.dtype)\n",
    "print(arr1.size)"
   ]
  },
  {
   "cell_type": "code",
   "execution_count": 11,
   "id": "5afd4e58",
   "metadata": {},
   "outputs": [
    {
     "data": {
      "text/plain": [
       "1"
      ]
     },
     "execution_count": 11,
     "metadata": {},
     "output_type": "execute_result"
    }
   ],
   "source": [
    "#Create 1 array and check its dimension\n",
    "array1=np.array([1,2,3,4,5,6,7])\n",
    "array1.ndim"
   ]
  },
  {
   "cell_type": "code",
   "execution_count": 13,
   "id": "f122094a",
   "metadata": {},
   "outputs": [
    {
     "data": {
      "text/plain": [
       "7"
      ]
     },
     "execution_count": 13,
     "metadata": {},
     "output_type": "execute_result"
    }
   ],
   "source": [
    "#check the size of above array\n",
    "array1.size"
   ]
  },
  {
   "cell_type": "code",
   "execution_count": 14,
   "id": "96a343d7",
   "metadata": {},
   "outputs": [
    {
     "data": {
      "text/plain": [
       "(7,)"
      ]
     },
     "execution_count": 14,
     "metadata": {},
     "output_type": "execute_result"
    }
   ],
   "source": [
    "#check the shape of array\n",
    "array1.shape"
   ]
  },
  {
   "cell_type": "code",
   "execution_count": 15,
   "id": "91e6b540",
   "metadata": {},
   "outputs": [
    {
     "data": {
      "text/plain": [
       "np.int64(7)"
      ]
     },
     "execution_count": 15,
     "metadata": {},
     "output_type": "execute_result"
    }
   ],
   "source": [
    "#check the index of second element\n",
    "array1[1]\n",
    "#check the index of last element\n",
    "array1[-1]"
   ]
  },
  {
   "cell_type": "code",
   "execution_count": 18,
   "id": "b6845d73",
   "metadata": {},
   "outputs": [
    {
     "data": {
      "text/plain": [
       "array([[ 2,  3,  4],\n",
       "       [ 5,  6,  7],\n",
       "       [ 8,  9, 10]])"
      ]
     },
     "execution_count": 18,
     "metadata": {},
     "output_type": "execute_result"
    }
   ],
   "source": [
    "# arrange and reshape the array\n",
    "array1=np.arange(2,11)\n",
    "b=array1.reshape(3,3)\n",
    "b"
   ]
  },
  {
   "cell_type": "code",
   "execution_count": 19,
   "id": "071c0866",
   "metadata": {},
   "outputs": [
    {
     "name": "stdout",
     "output_type": "stream",
     "text": [
      "[[1 2 3]\n",
      " [2 3 4]]\n",
      "[[10 11 12]\n",
      " [13 14 15]]\n",
      "------------------\n",
      "[[11 13 15]\n",
      " [15 17 19]]\n"
     ]
    }
   ],
   "source": [
    "#arithmetic operations\n",
    "x=np.array([[1,2,3],[2,3,4]])\n",
    "y=np.array([[10,11,12],[13,14,15]])\n",
    "print(x)\n",
    "print(y)\n",
    "z=x+y\n",
    "print(\"------------------\")\n",
    "print(z)"
   ]
  },
  {
   "cell_type": "code",
   "execution_count": 20,
   "id": "92998a7e",
   "metadata": {},
   "outputs": [
    {
     "name": "stdout",
     "output_type": "stream",
     "text": [
      "[[1 2 3]\n",
      " [2 3 4]]\n",
      "[[10 11 12]\n",
      " [13 14 15]]\n",
      "------------------\n",
      "[[ -9  -9  -9]\n",
      " [-11 -11 -11]]\n"
     ]
    }
   ],
   "source": [
    "#arithmetic operations\n",
    "x=np.array([[1,2,3],[2,3,4]])\n",
    "y=np.array([[10,11,12],[13,14,15]])\n",
    "print(x)\n",
    "print(y)\n",
    "z=x-y\n",
    "print(\"------------------\")\n",
    "print(z)"
   ]
  },
  {
   "cell_type": "code",
   "execution_count": 21,
   "id": "f39eb47a",
   "metadata": {},
   "outputs": [
    {
     "name": "stdout",
     "output_type": "stream",
     "text": [
      "[[1 2 3]\n",
      " [2 3 4]]\n",
      "[[10 11 12]\n",
      " [13 14 15]]\n",
      "------------------\n",
      "[[10 22 36]\n",
      " [26 42 60]]\n"
     ]
    }
   ],
   "source": [
    "#arithmetic operations\n",
    "x=np.array([[1,2,3],[2,3,4]])\n",
    "y=np.array([[10,11,12],[13,14,15]])\n",
    "print(x)\n",
    "print(y)\n",
    "z=x*y\n",
    "print(\"------------------\")\n",
    "print(z)"
   ]
  },
  {
   "cell_type": "code",
   "execution_count": 22,
   "id": "1c260a71",
   "metadata": {},
   "outputs": [
    {
     "name": "stdout",
     "output_type": "stream",
     "text": [
      "[[1 2 3]\n",
      " [2 3 4]]\n",
      "[[10 11 12]\n",
      " [13 14 15]]\n",
      "------------------\n",
      "[[0.1        0.18181818 0.25      ]\n",
      " [0.15384615 0.21428571 0.26666667]]\n"
     ]
    }
   ],
   "source": [
    "#arithmetic operations\n",
    "x=np.array([[1,2,3],[2,3,4]])\n",
    "y=np.array([[10,11,12],[13,14,15]])\n",
    "print(x)\n",
    "print(y)\n",
    "z=x/y\n",
    "print(\"------------------\")\n",
    "print(z)"
   ]
  },
  {
   "cell_type": "code",
   "execution_count": 23,
   "id": "818606cb",
   "metadata": {},
   "outputs": [
    {
     "name": "stdout",
     "output_type": "stream",
     "text": [
      "[[1 2 3]\n",
      " [2 3 4]]\n",
      "[[10 11 12]\n",
      " [13 14 15]]\n",
      "------------------\n",
      "[[         1       2048     531441]\n",
      " [      8192    4782969 1073741824]]\n"
     ]
    }
   ],
   "source": [
    "#arithmetic operations\n",
    "x=np.array([[1,2,3],[2,3,4]])\n",
    "y=np.array([[10,11,12],[13,14,15]])\n",
    "print(x)\n",
    "print(y)\n",
    "z=x**y\n",
    "print(\"------------------\")\n",
    "print(z)"
   ]
  },
  {
   "cell_type": "code",
   "execution_count": 24,
   "id": "b70bd075",
   "metadata": {},
   "outputs": [
    {
     "name": "stdout",
     "output_type": "stream",
     "text": [
      "Index of maximum value: 3\n",
      "Maximum value: 30\n",
      "Index of minimum value: 2\n",
      "Minimum value: 5\n"
     ]
    }
   ],
   "source": [
    "import numpy as np\n",
    "\n",
    "# Create a sample array\n",
    "arr = np.array([10, 20, 5, 30, 25])\n",
    "\n",
    "# Get index of maximum value\n",
    "max_index = np.argmax(arr)\n",
    "print(\"Index of maximum value:\", max_index)\n",
    "print(\"Maximum value:\", arr[max_index])\n",
    "\n",
    "# Get index of minimum value\n",
    "min_index = np.argmin(arr)\n",
    "print(\"Index of minimum value:\", min_index)\n",
    "print(\"Minimum value:\", arr[min_index])\n"
   ]
  }
 ],
 "metadata": {
  "kernelspec": {
   "display_name": "Python 3",
   "language": "python",
   "name": "python3"
  },
  "language_info": {
   "codemirror_mode": {
    "name": "ipython",
    "version": 3
   },
   "file_extension": ".py",
   "mimetype": "text/x-python",
   "name": "python",
   "nbconvert_exporter": "python",
   "pygments_lexer": "ipython3",
   "version": "3.10.11"
  }
 },
 "nbformat": 4,
 "nbformat_minor": 5
}
