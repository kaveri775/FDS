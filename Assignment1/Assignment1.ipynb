{
 "cells": [
  {
   "cell_type": "code",
   "execution_count": null,
   "id": "eb38c5d2",
   "metadata": {},
   "outputs": [
    {
     "name": "stdout",
     "output_type": "stream",
     "text": [
      "2.2.6\n"
     ]
    }
   ],
   "source": [
    "# NAME : Rahane Kaveri Bhagwat\n",
    "# Roll no:111\n",
    "# Batch:T2\n",
    "# Assignmnet No :1"
   ]
  },
  {
   "cell_type": "code",
   "execution_count": 16,
   "id": "2120a6c0",
   "metadata": {},
   "outputs": [
    {
     "name": "stdout",
     "output_type": "stream",
     "text": [
      "2.2.6\n"
     ]
    }
   ],
   "source": [
    "import numpy as np\n",
    "print(np.__version__)"
   ]
  },
  {
   "cell_type": "code",
   "execution_count": 2,
   "id": "8c7bc4ec",
   "metadata": {},
   "outputs": [
    {
     "name": "stdout",
     "output_type": "stream",
     "text": [
      "[0. 0. 0. 0. 0.]\n"
     ]
    },
    {
     "data": {
      "text/plain": [
       "array([0, 0, 0, 0, 0], dtype=int32)"
      ]
     },
     "execution_count": 2,
     "metadata": {},
     "output_type": "execute_result"
    }
   ],
   "source": [
    "import numpy as np\n",
    "arr=np.zeros(5)\n",
    "print(arr)\n",
    "arr.dtype\n",
    "arr.astype(np.int32)"
   ]
  },
  {
   "cell_type": "code",
   "execution_count": 3,
   "id": "412e485a",
   "metadata": {},
   "outputs": [
    {
     "name": "stdout",
     "output_type": "stream",
     "text": [
      "[1 1 1 1 1]\n",
      "int64\n",
      "(5,)\n"
     ]
    }
   ],
   "source": [
    "arr1=np.ones(5,dtype=\"int\")\n",
    "print(arr1)\n",
    "print(arr1.dtype)\n",
    "print(arr1.shape)\n"
   ]
  },
  {
   "cell_type": "code",
   "execution_count": 5,
   "id": "58dff8be",
   "metadata": {},
   "outputs": [
    {
     "name": "stdout",
     "output_type": "stream",
     "text": [
      "Array [[10  2 30]\n",
      " [ 4 50  6]\n",
      " [70  8  9]\n",
      " [11 12 13]]\n",
      "shape (4, 3)\n",
      "datatype int64\n"
     ]
    }
   ],
   "source": [
    "arr=np.array([[10,2,30],[4,50,6],[70,8,9],[11,12,13]])\n",
    "print(\"Array\",arr)\n",
    "print(\"shape\",arr.shape)\n",
    "print(\"datatype\",arr.dtype)"
   ]
  },
  {
   "cell_type": "code",
   "execution_count": 6,
   "id": "b5830e64",
   "metadata": {},
   "outputs": [
    {
     "name": "stdout",
     "output_type": "stream",
     "text": [
      "swappaxes [[10  4 70 11]\n",
      " [ 2 50  8 12]\n",
      " [30  6  9 13]]\n"
     ]
    }
   ],
   "source": [
    "#to interchange the axis, row become column,column become row\n",
    "print(\"swappaxes\",np.swapaxes(arr,0,1))"
   ]
  },
  {
   "cell_type": "code",
   "execution_count": 7,
   "id": "1c15960a",
   "metadata": {},
   "outputs": [
    {
     "name": "stdout",
     "output_type": "stream",
     "text": [
      "Reshape array [[10  2 30  4]\n",
      " [50  6 70  8]\n",
      " [ 9 11 12 13]]\n"
     ]
    }
   ],
   "source": [
    "#rearrange columns\n",
    "print(\"Reshape array\",arr.reshape(3,4))"
   ]
  },
  {
   "cell_type": "code",
   "execution_count": 8,
   "id": "f752d1a6",
   "metadata": {},
   "outputs": [
    {
     "name": "stdout",
     "output_type": "stream",
     "text": [
      "sort in aixs=0 [[ 4  2  6]\n",
      " [10  8  9]\n",
      " [11 12 13]\n",
      " [70 50 30]]\n",
      "sort in axis=1 [[ 2 10 30]\n",
      " [ 4  6 50]\n",
      " [ 8  9 70]\n",
      " [11 12 13]]\n"
     ]
    }
   ],
   "source": [
    "print(\"sort in aixs=0\",np.sort(arr,axis=0))\n",
    "print(\"sort in axis=1\",np.sort(arr,axis=1))"
   ]
  },
  {
   "cell_type": "code",
   "execution_count": 11,
   "id": "4508dea7",
   "metadata": {},
   "outputs": [
    {
     "name": "stdout",
     "output_type": "stream",
     "text": [
      "max element 70\n",
      "min element 2\n"
     ]
    }
   ],
   "source": [
    "#for printing max and min elemet from array\n",
    "print(\"max element\",np.max(arr))\n",
    "print(\"min element\",np.min(arr))"
   ]
  },
  {
   "cell_type": "code",
   "execution_count": null,
   "id": "9e34254f",
   "metadata": {},
   "outputs": [
    {
     "data": {
      "text/plain": [
       "array([ 1.  ,  3.25,  5.5 ,  7.75, 10.  ])"
      ]
     },
     "execution_count": 12,
     "metadata": {},
     "output_type": "execute_result"
    }
   ],
   "source": [
    "#creating range between array\n",
    "np.linspace(1,10,num=5)"
   ]
  },
  {
   "cell_type": "code",
   "execution_count": 13,
   "id": "c147013a",
   "metadata": {},
   "outputs": [
    {
     "name": "stdout",
     "output_type": "stream",
     "text": [
      "[[0 0 0]\n",
      " [0 0 0]\n",
      " [0 0 0]\n",
      " [0 0 0]]\n",
      "(4, 3)\n",
      "int64\n",
      "12\n"
     ]
    }
   ],
   "source": [
    "arr1=np.zeros((4,3),dtype=\"int\")\n",
    "print(arr1)\n",
    "print(arr1.shape)\n",
    "print(arr1.dtype)\n",
    "print(arr1.size)"
   ]
  },
  {
   "cell_type": "code",
   "execution_count": 14,
   "id": "151cf7c0",
   "metadata": {},
   "outputs": [
    {
     "data": {
      "text/plain": [
       "1"
      ]
     },
     "execution_count": 14,
     "metadata": {},
     "output_type": "execute_result"
    }
   ],
   "source": [
    "#Create 1 array and check its dimension\n",
    "array1=np.array([1,2,3,4,5,6,7])\n",
    "array1.ndim"
   ]
  },
  {
   "cell_type": "code",
   "execution_count": null,
   "id": "5c2e75de",
   "metadata": {},
   "outputs": [
    {
     "data": {
      "text/plain": [
       "7"
      ]
     },
     "execution_count": 17,
     "metadata": {},
     "output_type": "execute_result"
    }
   ],
   "source": [
    "#check the size of above array\n",
    "array1.size"
   ]
  },
  {
   "cell_type": "code",
   "execution_count": 19,
   "id": "4a5ea9cd",
   "metadata": {},
   "outputs": [
    {
     "data": {
      "text/plain": [
       "(7,)"
      ]
     },
     "execution_count": 19,
     "metadata": {},
     "output_type": "execute_result"
    }
   ],
   "source": [
    "#check the shape of array\n",
    "array1.shape"
   ]
  },
  {
   "cell_type": "code",
   "execution_count": 22,
   "id": "aac41059",
   "metadata": {},
   "outputs": [
    {
     "data": {
      "text/plain": [
       "np.int64(7)"
      ]
     },
     "execution_count": 22,
     "metadata": {},
     "output_type": "execute_result"
    }
   ],
   "source": [
    "#check the index of second element\n",
    "array1[1]\n",
    "#check the index of last element\n",
    "array1[-1]"
   ]
  },
  {
   "cell_type": "code",
   "execution_count": 3,
   "id": "3dc61ec5",
   "metadata": {},
   "outputs": [
    {
     "data": {
      "text/plain": [
       "array([[ 2,  3,  4],\n",
       "       [ 5,  6,  7],\n",
       "       [ 8,  9, 10]])"
      ]
     },
     "execution_count": 3,
     "metadata": {},
     "output_type": "execute_result"
    }
   ],
   "source": [
    "# arrange and reshape the array\n",
    "array1=np.arange(2,11)\n",
    "b=array1.reshape(3,3)\n",
    "b"
   ]
  },
  {
   "cell_type": "code",
   "execution_count": 4,
   "id": "f49b1bfe",
   "metadata": {},
   "outputs": [
    {
     "name": "stdout",
     "output_type": "stream",
     "text": [
      "[[1 2 3]\n",
      " [2 3 4]]\n",
      "[[10 11 12]\n",
      " [13 14 15]]\n",
      "------------------\n",
      "[[11 13 15]\n",
      " [15 17 19]]\n"
     ]
    }
   ],
   "source": [
    "#arithmetic operations\n",
    "x=np.array([[1,2,3],[2,3,4]])\n",
    "y=np.array([[10,11,12],[13,14,15]])\n",
    "print(x)\n",
    "print(y)\n",
    "z=x+y\n",
    "print(\"------------------\")\n",
    "print(z)"
   ]
  },
  {
   "cell_type": "code",
   "execution_count": 5,
   "id": "fa27896c",
   "metadata": {},
   "outputs": [
    {
     "name": "stdout",
     "output_type": "stream",
     "text": [
      "[[1 2 3]\n",
      " [2 3 4]]\n",
      "[[10 11 12]\n",
      " [13 14 15]]\n",
      "------------------\n",
      "[[ -9  -9  -9]\n",
      " [-11 -11 -11]]\n"
     ]
    }
   ],
   "source": [
    "#arithmetic operations\n",
    "x=np.array([[1,2,3],[2,3,4]])\n",
    "y=np.array([[10,11,12],[13,14,15]])\n",
    "print(x)\n",
    "print(y)\n",
    "z=x-y\n",
    "print(\"------------------\")\n",
    "print(z)"
   ]
  },
  {
   "cell_type": "code",
   "execution_count": 6,
   "id": "9c3eb3bd",
   "metadata": {},
   "outputs": [
    {
     "name": "stdout",
     "output_type": "stream",
     "text": [
      "[[1 2 3]\n",
      " [2 3 4]]\n",
      "[[10 11 12]\n",
      " [13 14 15]]\n",
      "------------------\n",
      "[[10 22 36]\n",
      " [26 42 60]]\n"
     ]
    }
   ],
   "source": [
    "#arithmetic operations\n",
    "x=np.array([[1,2,3],[2,3,4]])\n",
    "y=np.array([[10,11,12],[13,14,15]])\n",
    "print(x)\n",
    "print(y)\n",
    "z=x*y\n",
    "print(\"------------------\")\n",
    "print(z)"
   ]
  },
  {
   "cell_type": "code",
   "execution_count": 7,
   "id": "4cc045c3",
   "metadata": {},
   "outputs": [
    {
     "name": "stdout",
     "output_type": "stream",
     "text": [
      "[[1 2 3]\n",
      " [2 3 4]]\n",
      "[[10 11 12]\n",
      " [13 14 15]]\n",
      "------------------\n",
      "[[0.1        0.18181818 0.25      ]\n",
      " [0.15384615 0.21428571 0.26666667]]\n"
     ]
    }
   ],
   "source": [
    "#arithmetic operations\n",
    "x=np.array([[1,2,3],[2,3,4]])\n",
    "y=np.array([[10,11,12],[13,14,15]])\n",
    "print(x)\n",
    "print(y)\n",
    "z=x/y\n",
    "print(\"------------------\")\n",
    "print(z)"
   ]
  },
  {
   "cell_type": "code",
   "execution_count": 8,
   "id": "365056b7",
   "metadata": {},
   "outputs": [
    {
     "name": "stdout",
     "output_type": "stream",
     "text": [
      "[[1 2 3]\n",
      " [2 3 4]]\n",
      "[[10 11 12]\n",
      " [13 14 15]]\n",
      "------------------\n",
      "[[         1       2048     531441]\n",
      " [      8192    4782969 1073741824]]\n"
     ]
    }
   ],
   "source": [
    "#arithmetic operations\n",
    "x=np.array([[1,2,3],[2,3,4]])\n",
    "y=np.array([[10,11,12],[13,14,15]])\n",
    "print(x)\n",
    "print(y)\n",
    "z=x**y\n",
    "print(\"------------------\")\n",
    "print(z)"
   ]
  },
  {
   "cell_type": "code",
   "execution_count": 9,
   "id": "1ee9e035",
   "metadata": {},
   "outputs": [
    {
     "name": "stdout",
     "output_type": "stream",
     "text": [
      "\u001b[31mType:\u001b[39m        ndarray\n",
      "\u001b[31mString form:\u001b[39m [ 2  3  4  5  6  7  8  9 10]\n",
      "\u001b[31mLength:\u001b[39m      9\n",
      "\u001b[31mFile:\u001b[39m        c:\\users\\admin\\appdata\\local\\programs\\python\\python313\\lib\\site-packages\\numpy\\__init__.py\n",
      "\u001b[31mDocstring:\u001b[39m  \n",
      "ndarray(shape, dtype=float, buffer=None, offset=0,\n",
      "        strides=None, order=None)\n",
      "\n",
      "An array object represents a multidimensional, homogeneous array\n",
      "of fixed-size items.  An associated data-type object describes the\n",
      "format of each element in the array (its byte-order, how many bytes it\n",
      "occupies in memory, whether it is an integer, a floating point number,\n",
      "or something else, etc.)\n",
      "\n",
      "Arrays should be constructed using `array`, `zeros` or `empty` (refer\n",
      "to the See Also section below).  The parameters given here refer to\n",
      "a low-level method (`ndarray(...)`) for instantiating an array.\n",
      "\n",
      "For more information, refer to the `numpy` module and examine the\n",
      "methods and attributes of an array.\n",
      "\n",
      "Parameters\n",
      "----------\n",
      "(for the __new__ method; see Notes below)\n",
      "\n",
      "shape : tuple of ints\n",
      "    Shape of created array.\n",
      "dtype : data-type, optional\n",
      "    Any object that can be interpreted as a numpy data type.\n",
      "buffer : object exposing buffer interface, optional\n",
      "    Used to fill the array with data.\n",
      "offset : int, optional\n",
      "    Offset of array data in buffer.\n",
      "strides : tuple of ints, optional\n",
      "    Strides of data in memory.\n",
      "order : {'C', 'F'}, optional\n",
      "    Row-major (C-style) or column-major (Fortran-style) order.\n",
      "\n",
      "Attributes\n",
      "----------\n",
      "T : ndarray\n",
      "    Transpose of the array.\n",
      "data : buffer\n",
      "    The array's elements, in memory.\n",
      "dtype : dtype object\n",
      "    Describes the format of the elements in the array.\n",
      "flags : dict\n",
      "    Dictionary containing information related to memory use, e.g.,\n",
      "    'C_CONTIGUOUS', 'OWNDATA', 'WRITEABLE', etc.\n",
      "flat : numpy.flatiter object\n",
      "    Flattened version of the array as an iterator.  The iterator\n",
      "    allows assignments, e.g., ``x.flat = 3`` (See `ndarray.flat` for\n",
      "    assignment examples; TODO).\n",
      "imag : ndarray\n",
      "    Imaginary part of the array.\n",
      "real : ndarray\n",
      "    Real part of the array.\n",
      "size : int\n",
      "    Number of elements in the array.\n",
      "itemsize : int\n",
      "    The memory use of each array element in bytes.\n",
      "nbytes : int\n",
      "    The total number of bytes required to store the array data,\n",
      "    i.e., ``itemsize * size``.\n",
      "ndim : int\n",
      "    The array's number of dimensions.\n",
      "shape : tuple of ints\n",
      "    Shape of the array.\n",
      "strides : tuple of ints\n",
      "    The step-size required to move from one element to the next in\n",
      "    memory. For example, a contiguous ``(3, 4)`` array of type\n",
      "    ``int16`` in C-order has strides ``(8, 2)``.  This implies that\n",
      "    to move from element to element in memory requires jumps of 2 bytes.\n",
      "    To move from row-to-row, one needs to jump 8 bytes at a time\n",
      "    (``2 * 4``).\n",
      "ctypes : ctypes object\n",
      "    Class containing properties of the array needed for interaction\n",
      "    with ctypes.\n",
      "base : ndarray\n",
      "    If the array is a view into another array, that array is its `base`\n",
      "    (unless that array is also a view).  The `base` array is where the\n",
      "    array data is actually stored.\n",
      "\n",
      "See Also\n",
      "--------\n",
      "array : Construct an array.\n",
      "zeros : Create an array, each element of which is zero.\n",
      "empty : Create an array, but leave its allocated memory unchanged (i.e.,\n",
      "        it contains \"garbage\").\n",
      "dtype : Create a data-type.\n",
      "numpy.typing.NDArray : An ndarray alias :term:`generic <generic type>`\n",
      "                       w.r.t. its `dtype.type <numpy.dtype.type>`.\n",
      "\n",
      "Notes\n",
      "-----\n",
      "There are two modes of creating an array using ``__new__``:\n",
      "\n",
      "1. If `buffer` is None, then only `shape`, `dtype`, and `order`\n",
      "   are used.\n",
      "2. If `buffer` is an object exposing the buffer interface, then\n",
      "   all keywords are interpreted.\n",
      "\n",
      "No ``__init__`` method is needed because the array is fully initialized\n",
      "after the ``__new__`` method.\n",
      "\n",
      "Examples\n",
      "--------\n",
      "These examples illustrate the low-level `ndarray` constructor.  Refer\n",
      "to the `See Also` section above for easier ways of constructing an\n",
      "ndarray.\n",
      "\n",
      "First mode, `buffer` is None:\n",
      "\n",
      ">>> import numpy as np\n",
      ">>> np.ndarray(shape=(2,2), dtype=float, order='F')\n",
      "array([[0.0e+000, 0.0e+000], # random\n",
      "       [     nan, 2.5e-323]])\n",
      "\n",
      "Second mode:\n",
      "\n",
      ">>> np.ndarray((2,), buffer=np.array([1,2,3]),\n",
      "...            offset=np.int_().itemsize,\n",
      "...            dtype=int) # offset = 1*itemsize, i.e. skip first element\n",
      "array([2, 3])"
     ]
    }
   ],
   "source": [
    "?array1"
   ]
  },
  {
   "cell_type": "code",
   "execution_count": 14,
   "id": "6da3ee85",
   "metadata": {},
   "outputs": [
    {
     "name": "stdout",
     "output_type": "stream",
     "text": [
      "Index of maximum value: 3\n",
      "Maximum value: 30\n",
      "Index of minimum value: 2\n",
      "Minimum value: 5\n"
     ]
    }
   ],
   "source": [
    "import numpy as np\n",
    "\n",
    "# Create a sample array\n",
    "arr = np.array([10, 20, 5, 30, 25])\n",
    "\n",
    "# Get index of maximum value\n",
    "max_index = np.argmax(arr)\n",
    "print(\"Index of maximum value:\", max_index)\n",
    "print(\"Maximum value:\", arr[max_index])\n",
    "\n",
    "# Get index of minimum value\n",
    "min_index = np.argmin(arr)\n",
    "print(\"Index of minimum value:\", min_index)\n",
    "print(\"Minimum value:\", arr[min_index])\n"
   ]
  }
 ],
 "metadata": {
  "kernelspec": {
   "display_name": "Python 3",
   "language": "python",
   "name": "python3"
  },
  "language_info": {
   "codemirror_mode": {
    "name": "ipython",
    "version": 3
   },
   "file_extension": ".py",
   "mimetype": "text/x-python",
   "name": "python",
   "nbconvert_exporter": "python",
   "pygments_lexer": "ipython3",
   "version": "3.13.6"
  }
 },
 "nbformat": 4,
 "nbformat_minor": 5
}
